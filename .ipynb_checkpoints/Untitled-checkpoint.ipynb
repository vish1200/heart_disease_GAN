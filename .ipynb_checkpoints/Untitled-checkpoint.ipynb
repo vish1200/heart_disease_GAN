{
 "cells": [
  {
   "cell_type": "code",
   "execution_count": 1,
   "metadata": {},
   "outputs": [
    {
     "name": "stderr",
     "output_type": "stream",
     "text": [
      "Using TensorFlow backend.\n"
     ]
    }
   ],
   "source": [
    "import pandas as pd\n",
    "import glob\n",
    "import imageio\n",
    "import matplotlib.pyplot as plt\n",
    "import numpy as np\n",
    "import os\n",
    "import PIL\n",
    "from keras.optimizers import Adam\n",
    "from keras.models import Sequential\n",
    "from keras.layers import Dense\n",
    "from keras.layers.advanced_activations import LeakyReLU\n",
    "from keras.layers import Input\n",
    "from keras.models import Model\n",
    "import time\n",
    "from IPython import display\n",
    "import math\n",
    "import time"
   ]
  },
  {
   "cell_type": "code",
   "execution_count": 70,
   "metadata": {},
   "outputs": [
    {
     "name": "stdout",
     "output_type": "stream",
     "text": [
      "['age' 'sex' 'cp' 'trestbps' 'chol' 'fbs' 'restecg' 'thalach' 'exang'\n",
      " 'oldpeak' 'slope' 'ca' 'thal' 'target']\n",
      "        age  sex  cp  trestbps      chol  fbs  restecg   thalach  exang  \\\n",
      "0  0.708333    1   3  0.481132  0.244292    1        0  0.603053      0   \n",
      "1  0.166667    1   2  0.339623  0.283105    0        1  0.885496      0   \n",
      "2  0.250000    0   1  0.339623  0.178082    0        0  0.770992      0   \n",
      "3  0.562500    1   1  0.245283  0.251142    0        1  0.816794      0   \n",
      "4  0.583333    0   0  0.245283  0.520548    0        1  0.702290      1   \n",
      "5  0.583333    1   0  0.433962  0.150685    0        1  0.587786      0   \n",
      "6  0.562500    0   1  0.433962  0.383562    0        0  0.625954      0   \n",
      "7  0.312500    1   1  0.245283  0.312785    0        1  0.778626      0   \n",
      "8  0.479167    1   2  0.735849  0.166667    1        1  0.694656      0   \n",
      "9  0.583333    1   2  0.528302  0.095890    0        1  0.786260      0   \n",
      "\n",
      "    oldpeak  slope  ca  thal  target  \n",
      "0  0.370968      0   0     1       1  \n",
      "1  0.564516      0   0     2       1  \n",
      "2  0.225806      2   0     2       1  \n",
      "3  0.129032      2   0     2       1  \n",
      "4  0.096774      2   0     2       1  \n",
      "5  0.064516      1   0     1       1  \n",
      "6  0.209677      1   0     2       1  \n",
      "7  0.000000      2   0     3       1  \n",
      "8  0.080645      2   0     3       1  \n",
      "9  0.258065      2   0     2       1  \n"
     ]
    }
   ],
   "source": [
    "data = pd.read_csv('heart-disease-uci.zip')\n",
    "print(data.columns.values)\n",
    "cont_ls = ['age', 'trestbps', 'chol', 'thalach','oldpeak']\n",
    "\n",
    "for j in cont_ls:\n",
    "    index = list(data.index.values)\n",
    "    df_ = pd.DataFrame(index=index, columns=[j])\n",
    "    for i in index:\n",
    "        df_.at[i,j] = (data.at[i,j]-data[j].min())/(data[j].max()-data[j].min())\n",
    "    data.at[:,j] = np.nan\n",
    "    for k in index:\n",
    "        data.at[k,j] = df_.at[k,j]\n",
    "        \n",
    "print(data.head(10))    "
   ]
  }
 ],
 "metadata": {
  "kernelspec": {
   "display_name": "Python 3",
   "language": "python",
   "name": "python3"
  },
  "language_info": {
   "codemirror_mode": {
    "name": "ipython",
    "version": 3
   },
   "file_extension": ".py",
   "mimetype": "text/x-python",
   "name": "python",
   "nbconvert_exporter": "python",
   "pygments_lexer": "ipython3",
   "version": "3.7.4"
  }
 },
 "nbformat": 4,
 "nbformat_minor": 2
}
